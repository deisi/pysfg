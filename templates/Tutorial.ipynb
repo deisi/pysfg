{
 "cells": [
  {
   "cell_type": "code",
   "execution_count": null,
   "metadata": {},
   "outputs": [],
   "source": [
    "%pylab inline\n",
    "\n",
    "import pandas as pd\n",
    "%load_ext autoreload\n",
    "%autoreload 2\n",
    "import pysfg"
   ]
  },
  {
   "cell_type": "markdown",
   "metadata": {},
   "source": [
    "# Static Spectra Analysis"
   ]
  },
  {
   "cell_type": "markdown",
   "metadata": {},
   "source": [
    "## Quartz or Gold Spectrum for Normalization"
   ]
  },
  {
   "cell_type": "markdown",
   "metadata": {},
   "source": [
    "The idear of the analysis is to seperate some distinkt properties of the data analysis. the `static_spectra.py` script contains the typical logic of what one want to do with static spectral data. For each usecase, a new `some_name.yaml` file needs to be passed to the `static_spectra.py` file, to configure a specific set of data. What it basically does is:\n",
    "\n",
    "- read of data files\n",
    "- calibrate pixels to wavenumbers \n",
    "- trim data (pixels and spectrum index)\n",
    "- take median of scans and pp_delays\n",
    "- save result in a structured `.json` file\n",
    "\n",
    "The syntax for using `static_spectra.py` is:\n",
    "\n",
    "```\n",
    "python static_spectra.py path_to_config.yaml\n",
    "```\n",
    "\n",
    "or from within the notebook:\n",
    "```\n",
    "%run static_spectra.py path_to_config.yaml\n",
    "```\n",
    "\n",
    "\n",
    "`yaml` files are a structured way of storing information or in this case configuration. [Here](https://rollout.io/blog/yaml-tutorial-everything-you-need-get-started/) is a possible tutorial explaining many aspects of yaml. Understanding yaml is not very difficult. If you are confused by `simple_gold.yaml` take a peak at the mentioned tutorial. In short, indentation matters, `:` seperates `key:value` just like python dicts, lists can be given with`[1, 2, 3]`  or\n",
    "\n",
    "``` yaml\n",
    "- 1\n",
    "- 2\n",
    "- 3 \n",
    "```\n",
    "\n",
    "numbers are read as `float` or `int`, text is read as `string`\n",
    "\n",
    "Lets go through the structure of `simple_gold.yaml` for now:\n",
    "\n",
    "``` yaml\n",
    "calibration:\n",
    "    vis_wl: 799.7 # Wavelength of the visible\n",
    "    calib_central_wl: 680 # central wavelength during calibration\n",
    "    calib_coeff: [0.080881, 615.18] # calibration coefficients from calibration\n",
    "```\n",
    "\n",
    "This block shows how to apply a calibration. This `calibration:` block is read by the `static_spectra.py` script and used for calibration. If it doesn't exist, `static_spectra.py` tries to read the information of the data file. Take a look at `static_spectra.py` within you find the following block:\n",
    "\n",
    "``` python\n",
    "    calibration_config = config.get('calibration', {})\n",
    "    calibration = pysfg.Calibration(\n",
    "        calibration_config.get('central_wl', intensity_data['central_wl']),\n",
    "        calibration_config.get('vis_wl', intensity_data['vis_wl']),\n",
    "        calibration_config.get('calib_central_wl', intensity_data['calib_central_wl']),\n",
    "        calibration_config.get('calib_coeff', intensity_data['calib_coeff'])\n",
    "    )\n",
    "```\n",
    "This block is mostly responsible for the above begaviour. `config` is the python respresentation of the complete `simple_gold.yaml` file. Within `config` a `calibration` key is searched and if not found, and empty dict is passed. Then within the `calibration` dict, `central_wl`, `vis_wl`, `calib_central_wl` and `calib_coeff` is used and if not found the infomration is read of the `intensity_data` dict, that represents the content of the `intensity_data` file, including the header.\n",
    "\n",
    "This calibration is then followed by a `data:` block. This block is mandatory and it consists out of an arbitraty amount of `-` seperated blocks. Each of these blocks is configuring a single spectrum by referencing it to its respective `intensity_data:`, `baseline_data:` and `norm_data:`. However only the `intensity_data:` and `name:` is mandatory. The rest is optional.\n",
    "   \n",
    "``` yaml\n",
    "data:\n",
    "  -\n",
    "    # Path to a data file that contains raw intensity data.\n",
    "    intensity_data:  \"../tests/data/gold.dat\"\n",
    "    # Configure selection of data. E.g. pixels, pp_delays, spectra or scans.\n",
    "    intensity_selector:\n",
    "      # The index of the spectrum that should be used.\n",
    "      spectra: 1\n",
    "    # Path to a data file that contains raw background data.\n",
    "    background_data: \"../tests/data/gold_bg.dat\" # Relative to fpath\n",
    "    background_selector:\n",
    "      spectra: 1\n",
    "      #pixel: Has no function here, as it is Overwritten by the intensity_selector pixels.\n",
    "    name: \"cache/gold_1.json\"\n",
    "```\n",
    "\n",
    "The key `intensity_data` is mapped to a filepath with a *victor* or *vivian* `.dat` data file and the path is relative to the position of this notebook you are looking at right now. The `intensity_selector` is optional and can have up to four sub keys: `pp_delays`, `scans`, `spectra` and `pixel`. For static spectra `spectra` and `pixel` are the most important.  As they are used to trim down the data into a relevant section. `spectra: 1` means take only spectrum 1. Internally a `pysfg.SelectorPP` object is created from this block. The `background_data`  and `background_selector` then works identical but is taking care of the background intensity. `name` is the path to a `.json` file, where the strucutred result of the `static_spectra.py` script is saved as a `json` file. This file can then be used for visualizing and further processing of the spectrum. For educational purpose the full data block is:\n",
    "\n",
    "\n",
    "```yaml\n",
    "data:\n",
    "  -\n",
    "    # Path to a data file that contains raw intensity data.\n",
    "    intensity_data:  \"../tests/data/gold.dat\"\n",
    "    # Configure selection of data. E.g. pixels, pp_delays, spectra or scans.\n",
    "    intensity_selector:\n",
    "      # The index of the spectrum that should be used.\n",
    "      spectra: 1\n",
    "    # Path to a data file that contains raw background data.\n",
    "    background_data: \"../tests/data/gold_bg.dat\" # Relative to fpath\n",
    "    background_selector:\n",
    "      spectra: 1\n",
    "      #pixel: Has no function here, as it is Overwritten by the intensity_selector pixels.\n",
    "    name: \"cache/gold_1.json\"\n",
    "  # You can have as many of these blocks as you want\n",
    "  -\n",
    "    intensity_data:  \"../tests/data/gold.dat\"\n",
    "    intensity_selector:\n",
    "      spectra: 0 # Lets use some other spectrum of the same data file\n",
    "      pixel: [520, 810] # A list in [start, stop, step] order\n",
    "      scans: [0, 3] # use onlay the first three scans.\n",
    "      pp_delays: null # This is the same as not putting it at all\n",
    "    background_data: \"../tests/data/gold_bg.dat\"\n",
    "    background_selector:\n",
    "      spectra: 0\n",
    "    name: \"cache/gold_2.json\"\n",
    "\n",
    "```\n",
    "Where a second `-` block is added. It shows some more possible options and how this script can be used to process arbitrary amount of spectra. Just append another `-` block and configure it to your liking. \n",
    "\n",
    "Now lets see how to actually run this. Execute:"
   ]
  },
  {
   "cell_type": "code",
   "execution_count": null,
   "metadata": {},
   "outputs": [],
   "source": [
    "%run static_spectra.py simple_gold.yaml"
   ]
  },
  {
   "cell_type": "markdown",
   "metadata": {},
   "source": [
    "The log above gives you some information on what is happending. It tels you the path of the importet data, the calibration configuartion and the path where the result is exportet.\n",
    "\n",
    "Next step is to visualize the result. The following is a possible example of what you could do now:"
   ]
  },
  {
   "cell_type": "code",
   "execution_count": null,
   "metadata": {},
   "outputs": [],
   "source": [
    "# Import the json files and create a pysfg.Spectrum object from them in one go.\n",
    "norm = pysfg.spectrum.json_to_spectrum('cache/gold_1.json')\n",
    "norm2 = pysfg.spectrum.json_to_spectrum('cache/gold_2.json')\n",
    "\n",
    "# Select some pixels for visualization\n",
    "pixel=[460, 810]\n",
    "# Figures\n",
    "fig, ax = plt.subplots()\n",
    "plt.plot(norm.wavenumber[slice(*pixel)], norm.basesubed[slice(*pixel)])\n",
    "plt.xlabel('Frequency/cm$^{-1}$')\n",
    "plt.ylabel('Counts')\n",
    "plt.title('Normalization')\n",
    "\n",
    "# Figures\n",
    "fig, ax = plt.subplots()\n",
    "plt.plot(norm2.wavenumber, norm2.basesubed)\n",
    "plt.xlabel('Frequency/cm$^{-1}$')\n",
    "plt.ylabel('Counts')\n",
    "plt.title('Normalization')"
   ]
  },
  {
   "cell_type": "markdown",
   "metadata": {},
   "source": [
    "In the example above, the calibration is manually passed within the `simple_gold.yaml` file in the `calibration:` section. This is needed, because the read file `../tests/data/gold.dat` contains no correct calibration data. Just open the file and check out the `# calib Coeff=0` line. This is not a correct calibration. The file `../tests/data/sc_quartz.dat` contains a correct calibration. Checkout the file header. It reads: `# calib Coeff=670\t642.101\t0.034274\t0\t0\t0\t0` \n",
    "\n",
    "`simple_quartz.yaml` shows you a configuration that reads the information of the file itself."
   ]
  },
  {
   "cell_type": "code",
   "execution_count": null,
   "metadata": {},
   "outputs": [],
   "source": [
    "%run static_spectra.py simple_quartz.yaml"
   ]
  },
  {
   "cell_type": "markdown",
   "metadata": {},
   "source": [
    "Again import and visualize"
   ]
  },
  {
   "cell_type": "code",
   "execution_count": null,
   "metadata": {},
   "outputs": [],
   "source": [
    "norm = pysfg.spectrum.json_to_spectrum('cache/quartz_1.json')\n",
    "pixel=slice(None)\n",
    "\n",
    "# Figures\n",
    "fig, ax = plt.subplots()\n",
    "plt.plot(norm.wavenumber[pixel], norm.basesubed[pixel])\n",
    "plt.xlabel('Frequency/cm$^{-1}$')\n",
    "plt.ylabel('Counts')\n",
    "plt.title('Normalization')"
   ]
  },
  {
   "cell_type": "markdown",
   "metadata": {},
   "source": [
    "I highly encourage you to use this import/export sceme as you see here. Initially it is some overhead, but in time you will realize, that it seperates logic (analysis) from plotting (visualizing) and it will make your live way easier if you start preparing presentations, or papers or what ever, you want to be ablte to quickly change the visualization but not the logic. This sheme allows you to do so."
   ]
  },
  {
   "cell_type": "markdown",
   "metadata": {},
   "source": [
    "## Normalize a Static Spectrum"
   ]
  },
  {
   "cell_type": "markdown",
   "metadata": {},
   "source": [
    "To normalize some static spectra, you can use the same template script `static_spectra.py`. However you have to change the specific configuration of course."
   ]
  },
  {
   "cell_type": "code",
   "execution_count": null,
   "metadata": {},
   "outputs": [],
   "source": [
    "%run static_spectra.py simple_spectrum.yaml"
   ]
  },
  {
   "cell_type": "markdown",
   "metadata": {},
   "source": [
    "Now `simple_spectrum.yaml` contains:\n",
    "    \n",
    "```yaml\n",
    "data:\n",
    "  -\n",
    "    intensity_data:  \"../tests/data/sc_d2o-dopc.dat\"\n",
    "    intensity_selector:\n",
    "      spectra: 1\n",
    "      # you can pass all kwargs of pysfg.SelectorPP here. Thus also:\n",
    "      pixel: [200, 1200]\n",
    "      # scans: [start, stop, step]\n",
    "      # pp_delays: [start, stop, step]\n",
    "    background_data: \"../tests/data/bg_d2o-docpe.dat\"\n",
    "    background_selector:\n",
    "      spectra: 1\n",
    "    # Norm data must be the result of a prior static_spectra.py run.\n",
    "    norm_data: \"./cache/quartz_1.json\"\n",
    "    name: \"cache/sc_d2o-dopc_static.json\"\n",
    "```\n",
    "\n",
    "Basically everything is indentical to the quartz or gold case as we have seen above, but note the `norm_data` line. Here we give it a path to one of the previously exported `quartz_1.json` files, as we want to use this for normalization. There is no `norm_selector` keyword available, if you want to change the normalization, go to the `simple_quarty.yaml` file, add or change one of the blocks in `data:` and reference the result here.\n",
    "\n",
    "Now lets visualize the result:"
   ]
  },
  {
   "cell_type": "code",
   "execution_count": null,
   "metadata": {},
   "outputs": [],
   "source": [
    "sc = pysfg.spectrum.json_to_spectrum('cache/sc_d2o-dopc_static.json')\n",
    "\n",
    "# Figures\n",
    "fig, ax = plt.subplots()\n",
    "plt.plot(sc.wavenumber, sc.basesubed)\n",
    "plt.xlabel('Frequency/cm$^{-1}$')\n",
    "plt.ylabel('Counts')\n",
    "plt.title('Normalization')"
   ]
  },
  {
   "cell_type": "markdown",
   "metadata": {},
   "source": [
    "Or if you want to plot the normalized version you do:"
   ]
  },
  {
   "cell_type": "code",
   "execution_count": null,
   "metadata": {},
   "outputs": [],
   "source": [
    "fig, ax = plt.subplots()\n",
    "plt.plot(sc.wavenumber, sc.normalized)\n",
    "plt.xlabel('Frequency/cm$^{-1}$')\n",
    "plt.ylabel('A.u.')\n",
    "plt.title('Normalization')"
   ]
  },
  {
   "cell_type": "markdown",
   "metadata": {},
   "source": [
    "Or you can even take a look at the raw data:"
   ]
  },
  {
   "cell_type": "code",
   "execution_count": null,
   "metadata": {},
   "outputs": [],
   "source": [
    "fig, ax = plt.subplots()\n",
    "plt.plot(sc.pixel, sc.intensity)\n",
    "plt.xlabel('Pixel')\n",
    "plt.ylabel('Counts')\n",
    "plt.title('Normalization')"
   ]
  },
  {
   "cell_type": "markdown",
   "metadata": {},
   "source": [
    "Note how the pixels start at 200 and not at 0, as we have configured it that way in `simple_spectrum.yaml` by passing it `pixel: [200, 1200]`. If you want, you can also create a pandas Dataframe from the result of `simple_spectrum.py` Just do the following:"
   ]
  },
  {
   "cell_type": "code",
   "execution_count": null,
   "metadata": {},
   "outputs": [],
   "source": [
    "pd.read_json('./cache/sc_d2o-dopc_static.json')"
   ]
  },
  {
   "cell_type": "markdown",
   "metadata": {},
   "source": [
    "# Time Series Data"
   ]
  },
  {
   "cell_type": "code",
   "execution_count": 14,
   "metadata": {
    "collapsed": true,
    "jupyter": {
     "outputs_hidden": true
    }
   },
   "outputs": [
    {
     "data": {
      "text/plain": [
       "{'Scan Start time': '24.08.2018  01:10:44',\n",
       " 'Scan Stop time': '24.08.2018  13:07:07',\n",
       " 'Gain': '1',\n",
       " 'Output Amplifier': 'Conventional Amp',\n",
       " 'HS_Speed [MHz]': '0.05',\n",
       " 'ExposureTime [s]': '100',\n",
       " 'HBin': 'ON',\n",
       " 'Central-Wavelength': '680',\n",
       " 'vis-Wavelength': '749',\n",
       " 'Syringe Pos': '37',\n",
       " 'Timefile': 'C:\\\\Labview\\\\Timefiles\\\\test-6.txt',\n",
       " 'Timedelay': '-10000\\t-7000\\t-2000\\t-1000\\t-750\\t-500\\t-250\\t-100\\t-50\\t0\\t50\\t100\\t150\\t200\\t300\\t400\\t450\\t500\\t600\\t700\\t800\\t1000\\t1250\\t1500\\t1750\\t2000\\t2500\\t3000\\t4000\\t5000\\t7500\\t10000\\t15000\\t20000\\t30000',\n",
       " 'Timedelay Pos': '97\\t97\\t98\\t98\\t98\\t98\\t98\\t98\\t98\\t98\\t98\\t98\\t98\\t98\\t98\\t98\\t98\\t98\\t98\\t98\\t98\\t98\\t98\\t98\\t98\\t98\\t99\\t99\\t99\\t99\\t99\\t100\\t100\\t101\\t103',\n",
       " 'Cursor': '290\\t250\\t135\\t95\\t45\\t5',\n",
       " 'x-mirror': 'OFF',\n",
       " 'calib Coeff': (0.0,),\n",
       " 'gain': '1',\n",
       " 'exposure_time': datetime.timedelta(seconds=100),\n",
       " 'hbin': False,\n",
       " 'central_wl': 680.0,\n",
       " 'vis_wl': 749.0,\n",
       " 'syringe_pos': 37,\n",
       " 'cursor': (290, 250, 135, 95, 45, 5),\n",
       " 'x_mirror': False,\n",
       " 'calib_central_wl': 0.0,\n",
       " 'calib_coeff': array([], dtype=float64),\n",
       " 'date': datetime.datetime(2018, 8, 24, 1, 10, 44),\n",
       " 'date_stop': datetime.datetime(2018, 8, 24, 13, 7, 7),\n",
       " 'timedelay': array([-10000,  -7000,  -2000,  -1000,   -750,   -500,   -250,   -100,\n",
       "           -50,      0,     50,    100,    150,    200,    300,    400,\n",
       "           450,    500,    600,    700,    800,   1000,   1250,   1500,\n",
       "          1750,   2000,   2500,   3000,   4000,   5000,   7500,  10000,\n",
       "         15000,  20000,  30000]),\n",
       " 'timedel_pos': array([ 97,  97,  98,  98,  98,  98,  98,  98,  98,  98,  98,  98,  98,\n",
       "         98,  98,  98,  98,  98,  98,  98,  98,  98,  98,  98,  98,  98,\n",
       "         99,  99,  99,  99,  99, 100, 100, 101, 103]),\n",
       " 'raw_data': array([[303, 306, 300, ..., 307, 309, 303],\n",
       "        [307, 306, 302, ..., 307, 307, 300],\n",
       "        [307, 308, 303, ..., 307, 306, 302],\n",
       "        ...,\n",
       "        [303, 305, 306, ..., 304, 306, 303],\n",
       "        [303, 304, 304, ..., 304, 305, 305],\n",
       "        [306, 305, 305, ..., 305, 304, 303]]),\n",
       " 'data': array([[[[303., 307., 307., ..., 307., 304., 302.],\n",
       "          [306., 306., 308., ..., 304., 306., 305.],\n",
       "          [300., 302., 303., ..., 304., 304., 306.]],\n",
       " \n",
       "         [[308., 305., 306., ..., 309., 302., 305.],\n",
       "          [312., 306., 308., ..., 305., 304., 304.],\n",
       "          [301., 301., 302., ..., 305., 305., 301.]],\n",
       " \n",
       "         [[307., 305., 306., ..., 302., 305., 304.],\n",
       "          [310., 308., 307., ..., 302., 304., 304.],\n",
       "          [300., 300., 299., ..., 302., 303., 305.]],\n",
       " \n",
       "         [[306., 304., 305., ..., 304., 306., 303.],\n",
       "          [305., 309., 307., ..., 304., 302., 305.],\n",
       "          [302., 301., 300., ..., 306., 303., 304.]],\n",
       " \n",
       "         [[305., 305., 306., ..., 303., 305., 303.],\n",
       "          [307., 308., 303., ..., 306., 306., 302.],\n",
       "          [301., 301., 300., ..., 305., 301., 303.]],\n",
       " \n",
       "         [[307., 307., 307., ..., 301., 305., 301.],\n",
       "          [309., 307., 306., ..., 304., 305., 306.],\n",
       "          [303., 300., 302., ..., 302., 305., 303.]]],\n",
       " \n",
       " \n",
       "        [[[307., 307., 303., ..., 303., 304., 306.],\n",
       "          [307., 304., 309., ..., 304., 306., 304.],\n",
       "          [304., 303., 299., ..., 305., 304., 303.]],\n",
       " \n",
       "         [[308., 302., 307., ..., 304., 303., 304.],\n",
       "          [305., 305., 308., ..., 304., 305., 305.],\n",
       "          [304., 301., 303., ..., 303., 306., 303.]],\n",
       " \n",
       "         [[306., 307., 308., ..., 303., 303., 304.],\n",
       "          [308., 306., 309., ..., 303., 303., 302.],\n",
       "          [300., 300., 299., ..., 303., 302., 306.]],\n",
       " \n",
       "         [[309., 307., 306., ..., 302., 303., 305.],\n",
       "          [309., 306., 308., ..., 304., 304., 303.],\n",
       "          [301., 301., 302., ..., 306., 303., 303.]],\n",
       " \n",
       "         [[309., 306., 306., ..., 304., 303., 307.],\n",
       "          [307., 306., 305., ..., 302., 303., 303.],\n",
       "          [301., 304., 304., ..., 305., 303., 304.]],\n",
       " \n",
       "         [[305., 308., 308., ..., 306., 305., 301.],\n",
       "          [306., 309., 307., ..., 305., 301., 307.],\n",
       "          [301., 303., 303., ..., 306., 305., 304.]]],\n",
       " \n",
       " \n",
       "        [[[304., 308., 306., ..., 307., 304., 306.],\n",
       "          [304., 310., 304., ..., 306., 304., 307.],\n",
       "          [301., 302., 302., ..., 305., 303., 306.]],\n",
       " \n",
       "         [[305., 304., 307., ..., 303., 305., 305.],\n",
       "          [305., 305., 308., ..., 303., 302., 303.],\n",
       "          [302., 302., 300., ..., 303., 305., 306.]],\n",
       " \n",
       "         [[309., 306., 308., ..., 304., 305., 304.],\n",
       "          [309., 307., 304., ..., 303., 305., 305.],\n",
       "          [301., 301., 302., ..., 305., 304., 305.]],\n",
       " \n",
       "         [[304., 308., 305., ..., 304., 305., 304.],\n",
       "          [305., 304., 308., ..., 307., 304., 304.],\n",
       "          [304., 303., 301., ..., 302., 304., 307.]],\n",
       " \n",
       "         [[303., 305., 306., ..., 304., 302., 303.],\n",
       "          [309., 308., 304., ..., 305., 302., 304.],\n",
       "          [300., 301., 300., ..., 307., 301., 305.]],\n",
       " \n",
       "         [[308., 305., 308., ..., 306., 307., 302.],\n",
       "          [304., 308., 306., ..., 305., 302., 304.],\n",
       "          [303., 300., 301., ..., 303., 302., 307.]]],\n",
       " \n",
       " \n",
       "        ...,\n",
       " \n",
       " \n",
       "        [[[304., 305., 306., ..., 306., 303., 303.],\n",
       "          [305., 308., 306., ..., 303., 304., 309.],\n",
       "          [304., 304., 303., ..., 305., 303., 305.]],\n",
       " \n",
       "         [[307., 310., 306., ..., 304., 305., 306.],\n",
       "          [306., 308., 306., ..., 301., 304., 304.],\n",
       "          [302., 300., 301., ..., 304., 305., 305.]],\n",
       " \n",
       "         [[306., 307., 310., ..., 301., 303., 306.],\n",
       "          [310., 306., 308., ..., 302., 305., 306.],\n",
       "          [302., 300., 300., ..., 303., 302., 304.]],\n",
       " \n",
       "         [[306., 307., 305., ..., 302., 303., 302.],\n",
       "          [307., 309., 310., ..., 305., 305., 302.],\n",
       "          [303., 301., 301., ..., 303., 304., 304.]],\n",
       " \n",
       "         [[309., 304., 308., ..., 303., 304., 305.],\n",
       "          [307., 303., 302., ..., 303., 304., 301.],\n",
       "          [303., 301., 300., ..., 304., 305., 303.]],\n",
       " \n",
       "         [[308., 306., 306., ..., 303., 304., 302.],\n",
       "          [307., 304., 303., ..., 306., 305., 304.],\n",
       "          [301., 300., 303., ..., 304., 306., 304.]]],\n",
       " \n",
       " \n",
       "        [[[306., 305., 306., ..., 302., 302., 304.],\n",
       "          [309., 308., 305., ..., 307., 303., 303.],\n",
       "          [305., 301., 300., ..., 305., 305., 307.]],\n",
       " \n",
       "         [[306., 307., 304., ..., 305., 305., 303.],\n",
       "          [308., 309., 308., ..., 305., 304., 306.],\n",
       "          [301., 300., 305., ..., 305., 304., 305.]],\n",
       " \n",
       "         [[308., 303., 308., ..., 303., 304., 305.],\n",
       "          [308., 307., 307., ..., 307., 305., 306.],\n",
       "          [300., 303., 301., ..., 305., 307., 301.]],\n",
       " \n",
       "         [[303., 305., 308., ..., 301., 303., 304.],\n",
       "          [307., 307., 307., ..., 303., 306., 303.],\n",
       "          [303., 300., 305., ..., 302., 304., 302.]],\n",
       " \n",
       "         [[307., 305., 310., ..., 305., 303., 302.],\n",
       "          [308., 309., 306., ..., 307., 304., 305.],\n",
       "          [303., 301., 303., ..., 304., 304., 303.]],\n",
       " \n",
       "         [[305., 305., 305., ..., 302., 303., 304.],\n",
       "          [305., 309., 309., ..., 306., 305., 306.],\n",
       "          [302., 304., 303., ..., 306., 306., 304.]]],\n",
       " \n",
       " \n",
       "        [[[308., 308., 306., ..., 303., 303., 306.],\n",
       "          [309., 305., 306., ..., 305., 304., 305.],\n",
       "          [299., 303., 301., ..., 306., 304., 305.]],\n",
       " \n",
       "         [[309., 303., 303., ..., 302., 304., 302.],\n",
       "          [308., 309., 310., ..., 309., 306., 304.],\n",
       "          [301., 302., 301., ..., 305., 304., 306.]],\n",
       " \n",
       "         [[305., 306., 307., ..., 302., 306., 303.],\n",
       "          [306., 306., 308., ..., 302., 304., 307.],\n",
       "          [301., 302., 300., ..., 304., 304., 303.]],\n",
       " \n",
       "         [[307., 309., 313., ..., 303., 306., 305.],\n",
       "          [309., 308., 307., ..., 305., 303., 305.],\n",
       "          [304., 302., 299., ..., 308., 306., 304.]],\n",
       " \n",
       "         [[308., 306., 306., ..., 302., 304., 301.],\n",
       "          [312., 303., 309., ..., 303., 304., 304.],\n",
       "          [303., 300., 302., ..., 303., 305., 306.]],\n",
       " \n",
       "         [[303., 308., 310., ..., 304., 304., 305.],\n",
       "          [308., 309., 307., ..., 306., 305., 304.],\n",
       "          [302., 300., 300., ..., 303., 305., 303.]]]]),\n",
       " 'number_of_scans': 210}"
      ]
     },
     "execution_count": 14,
     "metadata": {},
     "output_type": "execute_result"
    }
   ],
   "source": [
    "pysfg.read.victor.data_file('../tests/data/dynamic_test_data.dat')"
   ]
  },
  {
   "cell_type": "code",
   "execution_count": 46,
   "metadata": {},
   "outputs": [
    {
     "name": "stderr",
     "output_type": "stream",
     "text": [
      "INFO:root:Importing: ../tests/data/dynamic_test_data.dat\n",
      "INFO:root:Using data_select is:\n",
      "[slice(None, None, None), slice(None, None, None), 0, slice(520, 810, None)]\n",
      "INFO:root:Using Calibration with:\n",
      "Central Wavelength: 680.0\n",
      "Visible Wavelength: 799.7\n",
      "Calibration Coefficients: (0.080881, 615.18)\n",
      "Calibration Central Wavelength: 680.0\n",
      "\n",
      "/home/malte/Projects/pysfg/templates/timescan.py:42: FutureWarning: Using a non-tuple sequence for multidimensional indexing is deprecated; use `arr[tuple(seq)]` instead of `arr[seq]`. In the future this will be interpreted as an array index, `arr[np.array(seq)]`, which will result either in an error or a different result.\n",
      "  intensity_data['data'][intensity_selector.select],\n",
      "/home/malte/Projects/pysfg/templates/timescan.py:47: FutureWarning: Using a non-tuple sequence for multidimensional indexing is deprecated; use `arr[tuple(seq)]` instead of `arr[seq]`. In the future this will be interpreted as an array index, `arr[np.array(seq)]`, which will result either in an error or a different result.\n",
      "  intensity_data['data'][intensity_selector.select],\n",
      "/home/malte/Projects/pysfg/templates/timescan.py:52: FutureWarning: Using a non-tuple sequence for multidimensional indexing is deprecated; use `arr[tuple(seq)]` instead of `arr[seq]`. In the future this will be interpreted as an array index, `arr[np.array(seq)]`, which will result either in an error or a different result.\n",
      "  background_data['data'][background_selector.select],\n",
      "INFO:root:Saving to: ./cache/pumped.json\n",
      "INFO:root:Importing: ../tests/data/dynamic_test_data.dat\n",
      "INFO:root:Using data_select is:\n",
      "[slice(None, None, None), slice(None, None, None), 1, slice(520, 810, None)]\n",
      "INFO:root:Using Calibration with:\n",
      "Central Wavelength: 680.0\n",
      "Visible Wavelength: 799.7\n",
      "Calibration Coefficients: (0.080881, 615.18)\n",
      "Calibration Central Wavelength: 680.0\n",
      "\n",
      "INFO:root:Saving to: ./cache/probed.json\n"
     ]
    }
   ],
   "source": [
    "%run timescan.py timescan.yaml"
   ]
  },
  {
   "cell_type": "code",
   "execution_count": 40,
   "metadata": {},
   "outputs": [],
   "source": [
    "pumped = pysfg.spectrum.json_to_pumpprobe('./cache/pumped.json')\n",
    "probed = pysfg.spectrum.json_to_pumpprobe('./cache/probed.json')"
   ]
  },
  {
   "cell_type": "code",
   "execution_count": 64,
   "metadata": {},
   "outputs": [
    {
     "name": "stderr",
     "output_type": "stream",
     "text": [
      "INFO:root:Run difference mode\n",
      "INFO:root:Saving to: ./cache/bleach.json\n"
     ]
    },
    {
     "data": {
      "text/plain": [
       "<Figure size 432x288 with 0 Axes>"
      ]
     },
     "metadata": {},
     "output_type": "display_data"
    }
   ],
   "source": [
    "%run bleach.py bleach.yaml"
   ]
  },
  {
   "cell_type": "code",
   "execution_count": 62,
   "metadata": {},
   "outputs": [],
   "source": [
    "bleach = pysfg.spectrum.json_to_bleach('./cache/bleach.json')"
   ]
  },
  {
   "cell_type": "code",
   "execution_count": 63,
   "metadata": {},
   "outputs": [
    {
     "data": {
      "text/plain": [
       "<function matplotlib.pyplot.show(*args, **kw)>"
      ]
     },
     "execution_count": 63,
     "metadata": {},
     "output_type": "execute_result"
    },
    {
     "data": {
      "image/png": "[encoded data removed]",
      "text/plain": [
       "<Figure size 432x288 with 1 Axes>"
      ]
     },
     "metadata": {
      "needs_background": "light"
     },
     "output_type": "display_data"
    }
   ],
   "source": [
    "fig, ax = plt.subplots()\n",
    "plt.plot(bleach.wavenumber, bleach.normalized[13])\n",
    "plt.show"
   ]
  },
  {
   "cell_type": "code",
   "execution_count": 60,
   "metadata": {},
   "outputs": [
    {
     "data": {
      "text/plain": [
       "<function matplotlib.pyplot.show(*args, **kw)>"
      ]
     },
     "execution_count": 60,
     "metadata": {},
     "output_type": "execute_result"
    },
    {
     "data": {
      "image/png": "[encoded data removed]",
      "text/plain": [
       "<Figure size 432x288 with 1 Axes>"
      ]
     },
     "metadata": {
      "needs_background": "light"
     },
     "output_type": "display_data"
    }
   ],
   "source": [
    "fig, ax = plt.subplots()\n",
    "plt.plot(bleach.wavenumber, bleach.normalized[13])\n",
    "plt.show"
   ]
  },
  {
   "cell_type": "code",
   "execution_count": null,
   "metadata": {},
   "outputs": [],
   "source": []
  }
 ],
 "metadata": {
  "kernelspec": {
   "display_name": "tio2",
   "language": "python",
   "name": "tio2"
  },
  "language_info": {
   "codemirror_mode": {
    "name": "ipython",
    "version": 3
   },
   "file_extension": ".py",
   "mimetype": "text/x-python",
   "name": "python",
   "nbconvert_exporter": "python",
   "pygments_lexer": "ipython3",
   "version": "3.7.6"
  }
 },
 "nbformat": 4,
 "nbformat_minor": 4
}
