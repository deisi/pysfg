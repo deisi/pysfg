{
 "cells": [
  {
   "cell_type": "code",
   "execution_count": 1,
   "metadata": {},
   "outputs": [
    {
     "name": "stdout",
     "output_type": "stream",
     "text": [
      "Using matplotlib backend: Qt5Agg\n",
      "Populating the interactive namespace from numpy and matplotlib\n"
     ]
    }
   ],
   "source": [
    "%pylab\n",
    "%load_ext autoreload\n",
    "%autoreload 2\n",
    "import pysfg"
   ]
  },
  {
   "cell_type": "code",
   "execution_count": 3,
   "metadata": {},
   "outputs": [
    {
     "data": {
      "text/plain": [
       "{'raw_data': array([[[629, 695, 631, ..., 612, 609, 609]],\n",
       " \n",
       "        [[632, 689, 633, ..., 609, 614, 608]],\n",
       " \n",
       "        [[625, 694, 631, ..., 609, 611, 611]]], dtype=int32),\n",
       " 'data': array([[[[629, 695, 631, ..., 612, 609, 609]],\n",
       " \n",
       "         [[632, 689, 633, ..., 609, 614, 608]],\n",
       " \n",
       "         [[625, 694, 631, ..., 609, 611, 611]]]], dtype=int32),\n",
       " 'wavelength': array([632.15823546, 632.19367836, 632.22911984, ..., 686.75870946,\n",
       "        686.79152897, 686.82434663]),\n",
       " 'headerVersion': 3.0,\n",
       " 'central_wl': 660.0,\n",
       " 'exposureTime': 600000.0,\n",
       " 'tempSet': -55,\n",
       " 'grating': '[500nm,1200][0][0]',\n",
       " 'tempRead': -55,\n",
       " 'roi': OrderedDict([('@id', '0'),\n",
       "              ('@x', '0'),\n",
       "              ('@width', '1600'),\n",
       "              ('@xBinning', '1'),\n",
       "              ('@y', '46'),\n",
       "              ('@height', '30'),\n",
       "              ('@yBinning', '30')]),\n",
       " 'xdim': 1600,\n",
       " 'ydim': 1,\n",
       " 'NumFrames': 3,\n",
       " 'xDimDet': 1600,\n",
       " 'yDimDet': 1}"
      ]
     },
     "execution_count": 3,
     "metadata": {},
     "output_type": "execute_result"
    }
   ],
   "source": [
    "q = pysfg.read.spe.data_file('data/sample.spe')\n",
    "q"
   ]
  },
  {
   "cell_type": "code",
   "execution_count": 5,
   "metadata": {},
   "outputs": [
    {
     "ename": "AttributeError",
     "evalue": "'SPEFile' object has no attribute '_readFromHeader'",
     "output_type": "error",
     "traceback": [
      "\u001b[0;31m---------------------------------------------------------------------------\u001b[0m",
      "\u001b[0;31mAttributeError\u001b[0m                            Traceback (most recent call last)",
      "\u001b[0;32m<ipython-input-5-e30480d4a038>\u001b[0m in \u001b[0;36m<module>\u001b[0;34m\u001b[0m\n\u001b[0;32m----> 1\u001b[0;31m \u001b[0mspe\u001b[0m \u001b[0;34m=\u001b[0m \u001b[0mpysfg\u001b[0m\u001b[0;34m.\u001b[0m\u001b[0mread\u001b[0m\u001b[0;34m.\u001b[0m\u001b[0mspe\u001b[0m\u001b[0;34m.\u001b[0m\u001b[0mSPEFile\u001b[0m\u001b[0;34m(\u001b[0m\u001b[0;34m'data/sample.spe'\u001b[0m\u001b[0;34m)\u001b[0m\u001b[0;34m\u001b[0m\u001b[0;34m\u001b[0m\u001b[0m\n\u001b[0m",
      "\u001b[0;32m~/Projects/pysfg/pysfg/read/spe.py\u001b[0m in \u001b[0;36m__init__\u001b[0;34m(self, fname, verbose)\u001b[0m\n\u001b[1;32m    120\u001b[0m         \u001b[0mself\u001b[0m\u001b[0;34m.\u001b[0m\u001b[0m_fname\u001b[0m \u001b[0;34m=\u001b[0m \u001b[0mfname\u001b[0m\u001b[0;34m\u001b[0m\u001b[0;34m\u001b[0m\u001b[0m\n\u001b[1;32m    121\u001b[0m         \u001b[0mself\u001b[0m\u001b[0;34m.\u001b[0m\u001b[0mmetadata\u001b[0m \u001b[0;34m=\u001b[0m \u001b[0;34m{\u001b[0m\u001b[0;34m}\u001b[0m\u001b[0;34m\u001b[0m\u001b[0;34m\u001b[0m\u001b[0m\n\u001b[0;32m--> 122\u001b[0;31m         \u001b[0mself\u001b[0m\u001b[0;34m.\u001b[0m\u001b[0mreadData\u001b[0m\u001b[0;34m(\u001b[0m\u001b[0;34m)\u001b[0m\u001b[0;34m\u001b[0m\u001b[0;34m\u001b[0m\u001b[0m\n\u001b[0m\u001b[1;32m    123\u001b[0m \u001b[0;34m\u001b[0m\u001b[0m\n\u001b[1;32m    124\u001b[0m     \u001b[0;32mdef\u001b[0m \u001b[0mreadData\u001b[0m\u001b[0;34m(\u001b[0m\u001b[0mself\u001b[0m\u001b[0;34m)\u001b[0m\u001b[0;34m:\u001b[0m\u001b[0;34m\u001b[0m\u001b[0;34m\u001b[0m\u001b[0m\n",
      "\u001b[0;32m~/Projects/pysfg/pysfg/read/spe.py\u001b[0m in \u001b[0;36mreadData\u001b[0;34m(self)\u001b[0m\n\u001b[1;32m    124\u001b[0m     \u001b[0;32mdef\u001b[0m \u001b[0mreadData\u001b[0m\u001b[0;34m(\u001b[0m\u001b[0mself\u001b[0m\u001b[0;34m)\u001b[0m\u001b[0;34m:\u001b[0m\u001b[0;34m\u001b[0m\u001b[0;34m\u001b[0m\u001b[0m\n\u001b[1;32m    125\u001b[0m         \u001b[0;34m\"\"\"Read all the data into the class.\"\"\"\u001b[0m\u001b[0;34m\u001b[0m\u001b[0;34m\u001b[0m\u001b[0m\n\u001b[0;32m--> 126\u001b[0;31m         \u001b[0mself\u001b[0m\u001b[0;34m.\u001b[0m\u001b[0m_readHeader\u001b[0m\u001b[0;34m(\u001b[0m\u001b[0;34m)\u001b[0m\u001b[0;34m\u001b[0m\u001b[0;34m\u001b[0m\u001b[0m\n\u001b[0m\u001b[1;32m    127\u001b[0m         \u001b[0mself\u001b[0m\u001b[0;34m.\u001b[0m\u001b[0m_readSize\u001b[0m\u001b[0;34m(\u001b[0m\u001b[0;34m)\u001b[0m\u001b[0;34m\u001b[0m\u001b[0;34m\u001b[0m\u001b[0m\n\u001b[1;32m    128\u001b[0m         \u001b[0mself\u001b[0m\u001b[0;34m.\u001b[0m\u001b[0m_read_v2_header\u001b[0m\u001b[0;34m(\u001b[0m\u001b[0;34m)\u001b[0m\u001b[0;34m\u001b[0m\u001b[0;34m\u001b[0m\u001b[0m\n",
      "\u001b[0;32m~/Projects/pysfg/pysfg/read/spe.py\u001b[0m in \u001b[0;36m_readHeader\u001b[0;34m(self)\u001b[0m\n\u001b[1;32m    137\u001b[0m         \u001b[0;31m# Read the entire header\u001b[0m\u001b[0;34m\u001b[0m\u001b[0;34m\u001b[0m\u001b[0;34m\u001b[0m\u001b[0m\n\u001b[1;32m    138\u001b[0m         \u001b[0mself\u001b[0m\u001b[0;34m.\u001b[0m\u001b[0m_header\u001b[0m \u001b[0;34m=\u001b[0m \u001b[0mself\u001b[0m\u001b[0;34m.\u001b[0m\u001b[0m_spe\u001b[0m\u001b[0;34m.\u001b[0m\u001b[0mread\u001b[0m\u001b[0;34m(\u001b[0m\u001b[0mnBytesHeader\u001b[0m\u001b[0;34m)\u001b[0m\u001b[0;34m\u001b[0m\u001b[0;34m\u001b[0m\u001b[0m\n\u001b[0;32m--> 139\u001b[0;31m         \u001b[0mself\u001b[0m\u001b[0;34m.\u001b[0m\u001b[0mheaderVersion\u001b[0m \u001b[0;34m=\u001b[0m \u001b[0mself\u001b[0m\u001b[0;34m.\u001b[0m\u001b[0m_readFromHeader\u001b[0m\u001b[0;34m(\u001b[0m\u001b[0;34m'f'\u001b[0m\u001b[0;34m,\u001b[0m \u001b[0;36m1992\u001b[0m\u001b[0;34m)\u001b[0m\u001b[0;34m[\u001b[0m\u001b[0;36m0\u001b[0m\u001b[0;34m]\u001b[0m\u001b[0;34m\u001b[0m\u001b[0;34m\u001b[0m\u001b[0m\n\u001b[0m\u001b[1;32m    140\u001b[0m         \u001b[0mself\u001b[0m\u001b[0;34m.\u001b[0m\u001b[0m_nBytesFooter\u001b[0m \u001b[0;34m=\u001b[0m \u001b[0mself\u001b[0m\u001b[0;34m.\u001b[0m\u001b[0m_readFromHeader\u001b[0m\u001b[0;34m(\u001b[0m\u001b[0;34m'I'\u001b[0m\u001b[0;34m,\u001b[0m \u001b[0;36m678\u001b[0m\u001b[0;34m)\u001b[0m\u001b[0;34m[\u001b[0m\u001b[0;36m0\u001b[0m\u001b[0;34m]\u001b[0m\u001b[0;34m\u001b[0m\u001b[0;34m\u001b[0m\u001b[0m\n\u001b[1;32m    141\u001b[0m \u001b[0;34m\u001b[0m\u001b[0m\n",
      "\u001b[0;31mAttributeError\u001b[0m: 'SPEFile' object has no attribute '_readFromHeader'"
     ]
    }
   ],
   "source": [
    "spe = pysfg.read.spe.SPEFile('data/sample.spe')"
   ]
  },
  {
   "cell_type": "code",
   "execution_count": 170,
   "metadata": {},
   "outputs": [
    {
     "name": "stderr",
     "output_type": "stream",
     "text": [
      "DEBUG:root:fmtStr: 1600H\n",
      "DEBUG:root:nBytesPerFrame 3200\n",
      "DEBUG:root:Opening data/sample.spe\n",
      "DEBUG:root:Read frame number 0\n",
      "DEBUG:root:Read frame number 1\n",
      "DEBUG:root:Read frame number 2\n",
      "DEBUG:root:fmtStr: 1600f\n",
      "DEBUG:root:nBytesPerFrame 6400\n",
      "DEBUG:root:Opening data/sample_v2.spe\n",
      "DEBUG:root:Read frame number 0\n",
      "DEBUG:root:Read frame number 1\n",
      "DEBUG:root:Read frame number 2\n"
     ]
    }
   ],
   "source": [
    "d1 = pysfg.read.spe.data_file('data/sample.spe')\n",
    "d2 = pysfg.read.spe.data_file('data/sample_v2.spe')"
   ]
  },
  {
   "cell_type": "code",
   "execution_count": 171,
   "metadata": {},
   "outputs": [
    {
     "data": {
      "text/plain": [
       "{'raw_data': array([[[629, 695, 631, ..., 612, 609, 609]],\n",
       " \n",
       "        [[632, 689, 633, ..., 609, 614, 608]],\n",
       " \n",
       "        [[625, 694, 631, ..., 609, 611, 611]]], dtype=int32),\n",
       " 'data': array([[[[629, 695, 631, ..., 612, 609, 609]],\n",
       " \n",
       "         [[632, 689, 633, ..., 609, 614, 608]],\n",
       " \n",
       "         [[625, 694, 631, ..., 609, 611, 611]]]], dtype=int32),\n",
       " 'wavelength': array([632.15823546, 632.19367836, 632.22911984, ..., 686.75870946,\n",
       "        686.79152897, 686.82434663]),\n",
       " 'central_wl': 660.0,\n",
       " 'grating': '[500nm,1200][0][0]',\n",
       " 'exposureTime': 600000.0,\n",
       " 'tempSet': -55,\n",
       " 'tempRead': -55,\n",
       " 'roi': OrderedDict([('@id', '0'),\n",
       "              ('@x', '0'),\n",
       "              ('@width', '1600'),\n",
       "              ('@xBinning', '1'),\n",
       "              ('@y', '46'),\n",
       "              ('@height', '30'),\n",
       "              ('@yBinning', '30')])}"
      ]
     },
     "execution_count": 171,
     "metadata": {},
     "output_type": "execute_result"
    }
   ],
   "source": [
    "d1"
   ]
  },
  {
   "cell_type": "code",
   "execution_count": 172,
   "metadata": {},
   "outputs": [
    {
     "data": {
      "text/plain": [
       "{'raw_data': array([[[587., 587., 591., ..., 586., 587., 587.]],\n",
       " \n",
       "        [[589., 591., 590., ..., 587., 588., 586.]],\n",
       " \n",
       "        [[590., 589., 587., ..., 587., 589., 590.]]], dtype=float32),\n",
       " 'data': array([[[[587., 587., 591., ..., 586., 587., 587.]],\n",
       " \n",
       "         [[589., 591., 590., ..., 587., 588., 586.]],\n",
       " \n",
       "         [[590., 589., 587., ..., 587., 589., 590.]]]], dtype=float32),\n",
       " 'wavelength': array([672.65020752, 672.68499003, 672.71977113, ..., 726.20591234,\n",
       "        726.23808218, 726.27025017]),\n",
       " 'gain': 255,\n",
       " 'exposureTime': 10.0,\n",
       " 'date': (48, 50, 77, 97, 114, 50, 48, 49, 55, 0),\n",
       " 'tempSet': -75.0,\n",
       " 'central_wl': 699.9999151235343}"
      ]
     },
     "execution_count": 172,
     "metadata": {},
     "output_type": "execute_result"
    }
   ],
   "source": [
    "d2"
   ]
  },
  {
   "cell_type": "code",
   "execution_count": null,
   "metadata": {},
   "outputs": [],
   "source": []
  }
 ],
 "metadata": {
  "kernelspec": {
   "display_name": "Python [conda env:pysfg]",
   "language": "python",
   "name": "conda-env-pysfg-py"
  },
  "language_info": {
   "codemirror_mode": {
    "name": "ipython",
    "version": 3
   },
   "file_extension": ".py",
   "mimetype": "text/x-python",
   "name": "python",
   "nbconvert_exporter": "python",
   "pygments_lexer": "ipython3",
   "version": "3.8.5"
  }
 },
 "nbformat": 4,
 "nbformat_minor": 4
}
