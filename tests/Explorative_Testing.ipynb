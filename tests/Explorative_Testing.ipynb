{
 "cells": [
  {
   "cell_type": "code",
   "execution_count": null,
   "metadata": {},
   "outputs": [],
   "source": [
    "%pylab\n",
    "%load_ext autoreload\n",
    "%autoreload 2\n",
    "import pysfg"
   ]
  },
  {
   "cell_type": "code",
   "execution_count": 73,
   "metadata": {},
   "outputs": [
    {
     "name": "stderr",
     "output_type": "stream",
     "text": [
      "DEBUG:root:fmtStr: 1600H\n",
      "DEBUG:root:nBytesPerFrame 3200\n",
      "DEBUG:root:Opening data/sample.spe\n",
      "DEBUG:root:Read frame number 0\n",
      "DEBUG:root:Read frame number 1\n",
      "DEBUG:root:Read frame number 2\n"
     ]
    }
   ],
   "source": [
    "q = pysfg.read.spe.readSpeFile('data/sample.spe')"
   ]
  },
  {
   "cell_type": "code",
   "execution_count": 84,
   "metadata": {},
   "outputs": [
    {
     "name": "stderr",
     "output_type": "stream",
     "text": [
      "DEBUG:root:fmtStr: 1600f\n",
      "DEBUG:root:nBytesPerFrame 6400\n",
      "DEBUG:root:Opening data/sample_v2.spe\n",
      "DEBUG:root:Read frame number 0\n",
      "DEBUG:root:Read frame number 1\n",
      "DEBUG:root:Read frame number 2\n"
     ]
    },
    {
     "data": {
      "text/plain": [
       "{'raw_data': array([[[587., 587., 591., ..., 586., 587., 587.]],\n",
       " \n",
       "        [[589., 591., 590., ..., 587., 588., 586.]],\n",
       " \n",
       "        [[590., 589., 587., ..., 587., 589., 590.]]], dtype=float32),\n",
       " 'data': array([[[[587., 587., 591., ..., 586., 587., 587.]],\n",
       " \n",
       "         [[589., 591., 590., ..., 587., 588., 586.]],\n",
       " \n",
       "         [[590., 589., 587., ..., 587., 589., 590.]]]], dtype=float32),\n",
       " 'wavelength': array([672.65020752, 672.68499003, 672.71977113, ..., 726.20591234,\n",
       "        726.23808218, 726.27025017]),\n",
       " 'gain': 255,\n",
       " 'exposureTime': 10.0,\n",
       " 'date': '02Mar2017',\n",
       " 'tempSet': -75.0,\n",
       " 'central_wl': 699.9999151235343,\n",
       " 'ExperimentTimeLocal': datetime.datetime(2017, 3, 2, 14, 28, 52),\n",
       " 'ExperimentTimeUTC': datetime.datetime(2017, 3, 2, 13, 28, 52)}"
      ]
     },
     "execution_count": 84,
     "metadata": {},
     "output_type": "execute_result"
    }
   ],
   "source": [
    "q = pysfg.read.spe.data_file('data/sample_v2.spe')\n",
    "q#['wavelength'].mean()"
   ]
  },
  {
   "cell_type": "code",
   "execution_count": 80,
   "metadata": {},
   "outputs": [
    {
     "data": {
      "text/plain": [
       "{'raw_data': array([[[629, 695, 631, ..., 612, 609, 609]],\n",
       " \n",
       "        [[632, 689, 633, ..., 609, 614, 608]],\n",
       " \n",
       "        [[625, 694, 631, ..., 609, 611, 611]]], dtype=int32),\n",
       " 'data': array([[[[629, 695, 631, ..., 612, 609, 609]],\n",
       " \n",
       "         [[632, 689, 633, ..., 609, 614, 608]],\n",
       " \n",
       "         [[625, 694, 631, ..., 609, 611, 611]]]], dtype=int32),\n",
       " 'wavelength': array([632.15823546, 632.19367836, 632.22911984, ..., 686.75870946,\n",
       "        686.79152897, 686.82434663]),\n",
       " 'central_wl': 660.0,\n",
       " 'grating': '[500nm,1200][0][0]',\n",
       " 'exposureTime': 600000.0,\n",
       " 'tempSet': -55,\n",
       " 'tempRead': -55,\n",
       " 'roi': OrderedDict([('@id', '0'),\n",
       "              ('@x', '0'),\n",
       "              ('@width', '1600'),\n",
       "              ('@xBinning', '1'),\n",
       "              ('@y', '46'),\n",
       "              ('@height', '30'),\n",
       "              ('@yBinning', '30')]),\n",
       " 'created': datetime.datetime(2018, 7, 26, 17, 18, 17)}"
      ]
     },
     "execution_count": 80,
     "metadata": {},
     "output_type": "execute_result"
    }
   ],
   "source": [
    "q"
   ]
  },
  {
   "cell_type": "code",
   "execution_count": 66,
   "metadata": {},
   "outputs": [],
   "source": [
    "from datetime import datetime"
   ]
  },
  {
   "cell_type": "code",
   "execution_count": 72,
   "metadata": {},
   "outputs": [
    {
     "data": {
      "text/plain": [
       "datetime.datetime(2018, 7, 26, 15, 33, 43)"
      ]
     },
     "execution_count": 72,
     "metadata": {},
     "output_type": "execute_result"
    }
   ],
   "source": [
    "date = '2018-07-26T15:33:43.9177108+02:00'\n",
    "datetime.strptime(date.split(\".\")[0], '%Y-%m-%dT%X')"
   ]
  },
  {
   "cell_type": "code",
   "execution_count": null,
   "metadata": {},
   "outputs": [],
   "source": []
  }
 ],
 "metadata": {
  "kernelspec": {
   "display_name": "Python [conda env:pysfg]",
   "language": "python",
   "name": "conda-env-pysfg-py"
  },
  "language_info": {
   "codemirror_mode": {
    "name": "ipython",
    "version": 3
   },
   "file_extension": ".py",
   "mimetype": "text/x-python",
   "name": "python",
   "nbconvert_exporter": "python",
   "pygments_lexer": "ipython3",
   "version": "3.8.5"
  }
 },
 "nbformat": 4,
 "nbformat_minor": 4
}
