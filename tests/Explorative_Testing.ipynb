{
 "cells": [
  {
   "cell_type": "code",
   "execution_count": 1,
   "metadata": {},
   "outputs": [
    {
     "name": "stdout",
     "output_type": "stream",
     "text": [
      "Using matplotlib backend: Qt5Agg\n",
      "Populating the interactive namespace from numpy and matplotlib\n"
     ]
    }
   ],
   "source": [
    "%pylab\n",
    "%load_ext autoreload\n",
    "%autoreload 2\n",
    "import pysfg"
   ]
  },
  {
   "cell_type": "code",
   "execution_count": 32,
   "metadata": {},
   "outputs": [],
   "source": [
    "q = pysfg.read.spe.SPEFile('data/quartz_v2.spe')"
   ]
  },
  {
   "cell_type": "code",
   "execution_count": 35,
   "metadata": {},
   "outputs": [
    {
     "data": {
      "text/plain": [
       "{'raw_data': array([[[590., 589., 590., ..., 591., 592., 590.]],\n",
       " \n",
       "        [[591., 590., 591., ..., 591., 590., 590.]],\n",
       " \n",
       "        [[590., 587., 589., ..., 592., 591., 589.]]], dtype=float32),\n",
       " 'data': array([[[[590., 589., 590., ..., 591., 592., 590.]],\n",
       " \n",
       "         [[591., 590., 591., ..., 591., 590., 590.]],\n",
       " \n",
       "         [[590., 587., 589., ..., 592., 591., 589.]]]], dtype=float32),\n",
       " 'central_wl': 0.0,\n",
       " 'calib_coeff': array([ 6.72650208e+02,  3.47832218e-02, -7.08598634e-07, -4.56380767e-11,\n",
       "         0.00000000e+00,  0.00000000e+00]),\n",
       " 'wavelength': array([672.65020752, 672.68499003, 672.71977113, ..., 726.20591234,\n",
       "        726.23808218, 726.27025017])}"
      ]
     },
     "execution_count": 35,
     "metadata": {},
     "output_type": "execute_result"
    }
   ],
   "source": [
    "qq = pysfg.read.spe.data_file('data/quartz_v2.spe')\n",
    "qq"
   ]
  },
  {
   "cell_type": "code",
   "execution_count": 37,
   "metadata": {},
   "outputs": [
    {
     "data": {
      "text/plain": [
       "[<matplotlib.lines.Line2D at 0x7f9b3001a2b0>]"
      ]
     },
     "execution_count": 37,
     "metadata": {},
     "output_type": "execute_result"
    }
   ],
   "source": [
    "q = pysfg.json_to_spectrum(\"results/quartz_v2_spe.json\")\n",
    "/home/malte/.ssh/known_hosts\n",
    "fig, ax = plt.subplots()\n",
    "plt.plot(q.wavenumber, q.basesubed)"
   ]
  },
  {
   "cell_type": "code",
   "execution_count": 39,
   "metadata": {},
   "outputs": [
    {
     "data": {
      "text/plain": [
       "1796.63680625"
      ]
     },
     "execution_count": 39,
     "metadata": {},
     "output_type": "execute_result"
    }
   ],
   "source": [
    "q.wavenumber.mean()"
   ]
  },
  {
   "cell_type": "code",
   "execution_count": null,
   "metadata": {},
   "outputs": [],
   "source": []
  }
 ],
 "metadata": {
  "kernelspec": {
   "display_name": "Python [conda env:pysfg]",
   "language": "python",
   "name": "conda-env-pysfg-py"
  },
  "language_info": {
   "codemirror_mode": {
    "name": "ipython",
    "version": 3
   },
   "file_extension": ".py",
   "mimetype": "text/x-python",
   "name": "python",
   "nbconvert_exporter": "python",
   "pygments_lexer": "ipython3",
   "version": "3.8.5"
  }
 },
 "nbformat": 4,
 "nbformat_minor": 4
}
