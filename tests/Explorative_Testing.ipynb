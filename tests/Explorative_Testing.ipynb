{
 "cells": [
  {
   "cell_type": "code",
   "execution_count": 1,
   "metadata": {},
   "outputs": [
    {
     "name": "stdout",
     "output_type": "stream",
     "text": [
      "Using matplotlib backend: Qt5Agg\n",
      "Populating the interactive namespace from numpy and matplotlib\n"
     ]
    }
   ],
   "source": [
    "%pylab\n",
    "%load_ext autoreload\n",
    "%autoreload 2\n",
    "import pysfg"
   ]
  },
  {
   "cell_type": "code",
   "execution_count": 3,
   "metadata": {},
   "outputs": [
    {
     "data": {
      "text/plain": [
       "{'raw_data': array([[[629, 695, 631, ..., 612, 609, 609]],\n",
       " \n",
       "        [[632, 689, 633, ..., 609, 614, 608]],\n",
       " \n",
       "        [[625, 694, 631, ..., 609, 611, 611]]], dtype=int32),\n",
       " 'data': array([[[[629, 695, 631, ..., 612, 609, 609]],\n",
       " \n",
       "         [[632, 689, 633, ..., 609, 614, 608]],\n",
       " \n",
       "         [[625, 694, 631, ..., 609, 611, 611]]]], dtype=int32),\n",
       " 'wavelength': array([632.15823546, 632.19367836, 632.22911984, ..., 686.75870946,\n",
       "        686.79152897, 686.82434663]),\n",
       " 'headerVersion': 3.0,\n",
       " 'central_wl': 660.0,\n",
       " 'exposureTime': 600000.0,\n",
       " 'tempSet': -55,\n",
       " 'grating': '[500nm,1200][0][0]',\n",
       " 'tempRead': -55,\n",
       " 'roi': OrderedDict([('@id', '0'),\n",
       "              ('@x', '0'),\n",
       "              ('@width', '1600'),\n",
       "              ('@xBinning', '1'),\n",
       "              ('@y', '46'),\n",
       "              ('@height', '30'),\n",
       "              ('@yBinning', '30')]),\n",
       " 'xdim': 1600,\n",
       " 'ydim': 1,\n",
       " 'NumFrames': 3,\n",
       " 'xDimDet': 1600,\n",
       " 'yDimDet': 1}"
      ]
     },
     "execution_count": 3,
     "metadata": {},
     "output_type": "execute_result"
    }
   ],
   "source": [
    "q = pysfg.read.spe.data_file('data/sample.spe')\n",
    "q"
   ]
  },
  {
   "cell_type": "code",
   "execution_count": 5,
   "metadata": {},
   "outputs": [
    {
     "ename": "AttributeError",
     "evalue": "'SPEFile' object has no attribute '_readFromHeader'",
     "output_type": "error",
     "traceback": [
      "\u001b[0;31m---------------------------------------------------------------------------\u001b[0m",
      "\u001b[0;31mAttributeError\u001b[0m                            Traceback (most recent call last)",
      "\u001b[0;32m<ipython-input-5-e30480d4a038>\u001b[0m in \u001b[0;36m<module>\u001b[0;34m\u001b[0m\n\u001b[0;32m----> 1\u001b[0;31m \u001b[0mspe\u001b[0m \u001b[0;34m=\u001b[0m \u001b[0mpysfg\u001b[0m\u001b[0;34m.\u001b[0m\u001b[0mread\u001b[0m\u001b[0;34m.\u001b[0m\u001b[0mspe\u001b[0m\u001b[0;34m.\u001b[0m\u001b[0mSPEFile\u001b[0m\u001b[0;34m(\u001b[0m\u001b[0;34m'data/sample.spe'\u001b[0m\u001b[0;34m)\u001b[0m\u001b[0;34m\u001b[0m\u001b[0;34m\u001b[0m\u001b[0m\n\u001b[0m",
      "\u001b[0;32m~/Projects/pysfg/pysfg/read/spe.py\u001b[0m in \u001b[0;36m__init__\u001b[0;34m(self, fname, verbose)\u001b[0m\n\u001b[1;32m    120\u001b[0m         \u001b[0mself\u001b[0m\u001b[0;34m.\u001b[0m\u001b[0m_fname\u001b[0m \u001b[0;34m=\u001b[0m \u001b[0mfname\u001b[0m\u001b[0;34m\u001b[0m\u001b[0;34m\u001b[0m\u001b[0m\n\u001b[1;32m    121\u001b[0m         \u001b[0mself\u001b[0m\u001b[0;34m.\u001b[0m\u001b[0mmetadata\u001b[0m \u001b[0;34m=\u001b[0m \u001b[0;34m{\u001b[0m\u001b[0;34m}\u001b[0m\u001b[0;34m\u001b[0m\u001b[0;34m\u001b[0m\u001b[0m\n\u001b[0;32m--> 122\u001b[0;31m         \u001b[0mself\u001b[0m\u001b[0;34m.\u001b[0m\u001b[0mreadData\u001b[0m\u001b[0;34m(\u001b[0m\u001b[0;34m)\u001b[0m\u001b[0;34m\u001b[0m\u001b[0;34m\u001b[0m\u001b[0m\n\u001b[0m\u001b[1;32m    123\u001b[0m \u001b[0;34m\u001b[0m\u001b[0m\n\u001b[1;32m    124\u001b[0m     \u001b[0;32mdef\u001b[0m \u001b[0mreadData\u001b[0m\u001b[0;34m(\u001b[0m\u001b[0mself\u001b[0m\u001b[0;34m)\u001b[0m\u001b[0;34m:\u001b[0m\u001b[0;34m\u001b[0m\u001b[0;34m\u001b[0m\u001b[0m\n",
      "\u001b[0;32m~/Projects/pysfg/pysfg/read/spe.py\u001b[0m in \u001b[0;36mreadData\u001b[0;34m(self)\u001b[0m\n\u001b[1;32m    124\u001b[0m     \u001b[0;32mdef\u001b[0m \u001b[0mreadData\u001b[0m\u001b[0;34m(\u001b[0m\u001b[0mself\u001b[0m\u001b[0;34m)\u001b[0m\u001b[0;34m:\u001b[0m\u001b[0;34m\u001b[0m\u001b[0;34m\u001b[0m\u001b[0m\n\u001b[1;32m    125\u001b[0m         \u001b[0;34m\"\"\"Read all the data into the class.\"\"\"\u001b[0m\u001b[0;34m\u001b[0m\u001b[0;34m\u001b[0m\u001b[0m\n\u001b[0;32m--> 126\u001b[0;31m         \u001b[0mself\u001b[0m\u001b[0;34m.\u001b[0m\u001b[0m_readHeader\u001b[0m\u001b[0;34m(\u001b[0m\u001b[0;34m)\u001b[0m\u001b[0;34m\u001b[0m\u001b[0;34m\u001b[0m\u001b[0m\n\u001b[0m\u001b[1;32m    127\u001b[0m         \u001b[0mself\u001b[0m\u001b[0;34m.\u001b[0m\u001b[0m_readSize\u001b[0m\u001b[0;34m(\u001b[0m\u001b[0;34m)\u001b[0m\u001b[0;34m\u001b[0m\u001b[0;34m\u001b[0m\u001b[0m\n\u001b[1;32m    128\u001b[0m         \u001b[0mself\u001b[0m\u001b[0;34m.\u001b[0m\u001b[0m_read_v2_header\u001b[0m\u001b[0;34m(\u001b[0m\u001b[0;34m)\u001b[0m\u001b[0;34m\u001b[0m\u001b[0;34m\u001b[0m\u001b[0m\n",
      "\u001b[0;32m~/Projects/pysfg/pysfg/read/spe.py\u001b[0m in \u001b[0;36m_readHeader\u001b[0;34m(self)\u001b[0m\n\u001b[1;32m    137\u001b[0m         \u001b[0;31m# Read the entire header\u001b[0m\u001b[0;34m\u001b[0m\u001b[0;34m\u001b[0m\u001b[0;34m\u001b[0m\u001b[0m\n\u001b[1;32m    138\u001b[0m         \u001b[0mself\u001b[0m\u001b[0;34m.\u001b[0m\u001b[0m_header\u001b[0m \u001b[0;34m=\u001b[0m \u001b[0mself\u001b[0m\u001b[0;34m.\u001b[0m\u001b[0m_spe\u001b[0m\u001b[0;34m.\u001b[0m\u001b[0mread\u001b[0m\u001b[0;34m(\u001b[0m\u001b[0mnBytesHeader\u001b[0m\u001b[0;34m)\u001b[0m\u001b[0;34m\u001b[0m\u001b[0;34m\u001b[0m\u001b[0m\n\u001b[0;32m--> 139\u001b[0;31m         \u001b[0mself\u001b[0m\u001b[0;34m.\u001b[0m\u001b[0mheaderVersion\u001b[0m \u001b[0;34m=\u001b[0m \u001b[0mself\u001b[0m\u001b[0;34m.\u001b[0m\u001b[0m_readFromHeader\u001b[0m\u001b[0;34m(\u001b[0m\u001b[0;34m'f'\u001b[0m\u001b[0;34m,\u001b[0m \u001b[0;36m1992\u001b[0m\u001b[0;34m)\u001b[0m\u001b[0;34m[\u001b[0m\u001b[0;36m0\u001b[0m\u001b[0;34m]\u001b[0m\u001b[0;34m\u001b[0m\u001b[0;34m\u001b[0m\u001b[0m\n\u001b[0m\u001b[1;32m    140\u001b[0m         \u001b[0mself\u001b[0m\u001b[0;34m.\u001b[0m\u001b[0m_nBytesFooter\u001b[0m \u001b[0;34m=\u001b[0m \u001b[0mself\u001b[0m\u001b[0;34m.\u001b[0m\u001b[0m_readFromHeader\u001b[0m\u001b[0;34m(\u001b[0m\u001b[0;34m'I'\u001b[0m\u001b[0;34m,\u001b[0m \u001b[0;36m678\u001b[0m\u001b[0;34m)\u001b[0m\u001b[0;34m[\u001b[0m\u001b[0;36m0\u001b[0m\u001b[0;34m]\u001b[0m\u001b[0;34m\u001b[0m\u001b[0;34m\u001b[0m\u001b[0m\n\u001b[1;32m    141\u001b[0m \u001b[0;34m\u001b[0m\u001b[0m\n",
      "\u001b[0;31mAttributeError\u001b[0m: 'SPEFile' object has no attribute '_readFromHeader'"
     ]
    }
   ],
   "source": [
    "spe = pysfg.read.spe.SPEFile('data/sample.spe')"
   ]
  },
  {
   "cell_type": "code",
   "execution_count": 13,
   "metadata": {},
   "outputs": [
    {
     "data": {
      "text/plain": [
       "{'file_header_ver': 3.0,\n",
       " 'datatype': 3,\n",
       " 'xdim': 1600,\n",
       " 'ydim': 1,\n",
       " 'NumFrames': 3,\n",
       " 'xDimDet': 1600,\n",
       " 'yDimDet': 1,\n",
       " 'lastvalue': 21845}"
      ]
     },
     "execution_count": 13,
     "metadata": {},
     "output_type": "execute_result"
    }
   ],
   "source": [
    "ss = pysfg.read.spe.readSpeFile('data/sample.spe')\n",
    "ss"
   ]
  },
  {
   "cell_type": "code",
   "execution_count": 77,
   "metadata": {},
   "outputs": [
    {
     "data": {
      "text/plain": [
       "{'Header': {'file_header_ver': 2.5,\n",
       "  'datatype': 0,\n",
       "  'xdim': 1600,\n",
       "  'ydim': 1,\n",
       "  'NumFrames': 3,\n",
       "  'xDimDet': 1600,\n",
       "  'yDimDet': 200,\n",
       "  'lastvalue': 0,\n",
       "  'ControllerVersion': 0,\n",
       "  'AmpHiCapLowNoise': 0,\n",
       "  'mode': 3,\n",
       "  'exp_sec': 10.0,\n",
       "  'VChipXdim': 0,\n",
       "  'VChipYdim': 0,\n",
       "  'date': (48, 50, 77, 97, 114, 50, 48, 49, 55, 0),\n",
       "  'DetTemperature': -75.0,\n",
       "  'DelayTime': 0.0,\n",
       "  'ShutterControl': 0,\n",
       "  'SpecCenterWlNm': 0.0,\n",
       "  'SpecGlueFlag': 0,\n",
       "  'SpecGlueStartWlNm': 0.0,\n",
       "  'SpecGlueEndWlNm': 0.0,\n",
       "  'SpecGlueMinOvrlpNm': 0.0,\n",
       "  'SpecGlueFinalResNm': 0.0,\n",
       "  'ExperimentTimeLocal': (49, 52, 50, 56, 53, 50, 11),\n",
       "  'ExperimentTimeUTC': (49, 51, 50, 56, 53, 50, 11),\n",
       "  'gain': 255,\n",
       "  'ReadoutTime': 10124.5400390625,\n",
       "  'sw_version': (48,\n",
       "   50,\n",
       "   46,\n",
       "   53,\n",
       "   48,\n",
       "   48,\n",
       "   32,\n",
       "   48,\n",
       "   57,\n",
       "   47,\n",
       "   49,\n",
       "   56,\n",
       "   47,\n",
       "   48,\n",
       "   50,\n",
       "   0),\n",
       "  'NumExpRepeats': 0,\n",
       "  'NumExpAccums': 0,\n",
       "  'clkspd_us': 9.75,\n",
       "  'HWaccumFlag': 0,\n",
       "  'BlemishApplied': 0,\n",
       "  'CosmicApplied': 0,\n",
       "  'CosmicType': 0,\n",
       "  'CosmicThreshold': 0.0,\n",
       "  'readoutMode': 4,\n",
       "  'WindowSize': 0,\n",
       "  'clkspd': 0,\n",
       "  'SWmade': 0,\n",
       "  'NumROI': 0},\n",
       " 'X Calibration': {'offset': (0.0,),\n",
       "  'factor': (0.0,),\n",
       "  'current_unit': (0,),\n",
       "  'calib_valid': (1,),\n",
       "  'input_unit': (0,),\n",
       "  'polynom_unit': (0,),\n",
       "  'polynom_order': (3,),\n",
       "  'calib_count': (0,),\n",
       "  'pixel_position': (0.0, 0.0, 0.0, 0.0, 0.0, 0.0, 0.0, 0.0, 0.0, 0.0),\n",
       "  'calib_value': (0.0, 0.0, 0.0, 0.0, 0.0, 0.0, 0.0, 0.0, 0.0, 0.0),\n",
       "  'polynom_coeff': (672.6502075195312,\n",
       "   0.034783221781253815,\n",
       "   -7.085986339916417e-07,\n",
       "   -4.563807665114439e-11,\n",
       "   0.0,\n",
       "   0.0),\n",
       "  'laser_position': (0.0,),\n",
       "  'new_calib_flag': (0,)},\n",
       " 'Y Calibration': {}}"
      ]
     },
     "execution_count": 77,
     "metadata": {},
     "output_type": "execute_result"
    }
   ],
   "source": [
    "ss = pysfg.read.spe.readSpeFile('data/sample_v2.spe')\n",
    "ss"
   ]
  },
  {
   "cell_type": "code",
   "execution_count": 73,
   "metadata": {},
   "outputs": [
    {
     "data": {
      "text/plain": [
       "{'file_header_ver': 2.5,\n",
       " 'datatype': 0,\n",
       " 'xdim': 1600,\n",
       " 'ydim': 1,\n",
       " 'NumFrames': 3,\n",
       " 'xDimDet': 1600,\n",
       " 'yDimDet': 200,\n",
       " 'lastvalue': 0,\n",
       " 'ControllerVersion': 0,\n",
       " 'AmpHiCapLowNoise': 0,\n",
       " 'mode': 3,\n",
       " 'exp_sec': 10.0,\n",
       " 'VChipXdim': 0,\n",
       " 'VChipYdim': 0,\n",
       " 'date': (48, 50, 77, 97, 114, 50, 48, 49, 55, 0),\n",
       " 'DetTemperature': -75.0,\n",
       " 'DelayTime': 0.0,\n",
       " 'ShutterControl': 0,\n",
       " 'SpecCenterWlNm': 0.0,\n",
       " 'SpecGlueFlag': 0,\n",
       " 'SpecGlueStartWlNm': 0.0,\n",
       " 'SpecGlueEndWlNm': 0.0,\n",
       " 'SpecGlueMinOvrlpNm': 0.0,\n",
       " 'SpecGlueFinalResNm': 0.0,\n",
       " 'ExperimentTimeLocal': (49, 52, 50, 56, 53, 50, 11),\n",
       " 'ExperimentTimeUTC': (49, 51, 50, 56, 53, 50, 11),\n",
       " 'gain': 255,\n",
       " 'ReadoutTime': 10124.5400390625,\n",
       " 'sw_version': (48, 50, 46, 53, 48, 48, 32, 48, 57, 47, 49, 56, 47, 48, 50, 0),\n",
       " 'NumExpRepeats': 0,\n",
       " 'NumExpAccums': 0,\n",
       " 'clkspd_us': 9.75,\n",
       " 'HWaccumFlag': 0,\n",
       " 'BlemishApplied': 0,\n",
       " 'CosmicApplied': 0,\n",
       " 'CosmicType': 0,\n",
       " 'CosmicThreshold': 0.0,\n",
       " 'readoutMode': 4,\n",
       " 'WindowSize': 0,\n",
       " 'clkspd': 0,\n",
       " 'SWmade': 0,\n",
       " 'NumROI': 0}"
      ]
     },
     "execution_count": 73,
     "metadata": {},
     "output_type": "execute_result"
    }
   ],
   "source": [
    "ss['Header']"
   ]
  },
  {
   "cell_type": "code",
   "execution_count": 31,
   "metadata": {},
   "outputs": [
    {
     "data": {
      "text/plain": [
       "'02Mar2017'"
      ]
     },
     "execution_count": 31,
     "metadata": {},
     "output_type": "execute_result"
    }
   ],
   "source": [
    "ss['date[DATEMAX]'].decode('utf-8')"
   ]
  },
  {
   "cell_type": "code",
   "execution_count": 17,
   "metadata": {},
   "outputs": [
    {
     "data": {
      "text/plain": [
       "(0,)"
      ]
     },
     "execution_count": 17,
     "metadata": {},
     "output_type": "execute_result"
    }
   ],
   "source": [
    "with open('data/sample_v2.spe', \"rb\") as spe:\n",
    "    header = spe.read(4100)\n",
    "    ret = struct.unpack_from(\"h\", header, 0)\n",
    "ret"
   ]
  },
  {
   "cell_type": "code",
   "execution_count": null,
   "metadata": {},
   "outputs": [],
   "source": []
  }
 ],
 "metadata": {
  "kernelspec": {
   "display_name": "Python [conda env:pysfg]",
   "language": "python",
   "name": "conda-env-pysfg-py"
  },
  "language_info": {
   "codemirror_mode": {
    "name": "ipython",
    "version": 3
   },
   "file_extension": ".py",
   "mimetype": "text/x-python",
   "name": "python",
   "nbconvert_exporter": "python",
   "pygments_lexer": "ipython3",
   "version": "3.8.5"
  }
 },
 "nbformat": 4,
 "nbformat_minor": 4
}
