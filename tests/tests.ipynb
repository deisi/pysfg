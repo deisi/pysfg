{
 "cells": [
  {
   "cell_type": "code",
   "execution_count": 1,
   "metadata": {},
   "outputs": [
    {
     "name": "stdout",
     "output_type": "stream",
     "text": [
      "Populating the interactive namespace from numpy and matplotlib\n"
     ]
    }
   ],
   "source": [
    "%pylab inline\n",
    "\n",
    "import pandas as pd\n",
    "%load_ext autoreload\n",
    "%autoreload 2\n",
    "import pysfg\n"
   ]
  },
  {
   "cell_type": "markdown",
   "metadata": {},
   "source": [
    "Test Selector Object"
   ]
  },
  {
   "cell_type": "code",
   "execution_count": 3,
   "metadata": {},
   "outputs": [
    {
     "name": "stdout",
     "output_type": "stream",
     "text": [
      "[slice(None, None, None), slice(None, None, None), slice(None, None, None), slice(None, None, None)]\n",
      "[slice(None, None, None), slice(None, None, None), slice(None, None, None), slice(None, 100, None)]\n",
      "[slice(None, None, None), slice(None, None, None), 1, slice(None, None, None)]\n",
      "[slice(None, None, None), slice(None, None, None), slice(1, 5, None), slice(None, None, None)]\n",
      "[slice(None, None, None), slice(None, None, None), slice(None, None, None), slice(None, None, None)]\n",
      "[slice(1, 6, None), slice(None, None, None), slice(None, None, None), slice(None, None, None)]\n"
     ]
    }
   ],
   "source": [
    "s = pysfg.SelectorPP()\n",
    "print(s)\n",
    "s = pysfg.SelectorPP(pixel=slice(100))\n",
    "print(s)\n",
    "s = pysfg.SelectorPP(spectra=1)\n",
    "print(s)\n",
    "s = pysfg.SelectorPP(spectra=[1,5])\n",
    "print(s)\n",
    "s = pysfg.SelectorPP(pp_delays=None)\n",
    "print(s)\n",
    "s = pysfg.SelectorPP(pp_delays=(1,6))\n",
    "print(s)"
   ]
  },
  {
   "cell_type": "code",
   "execution_count": null,
   "metadata": {},
   "outputs": [],
   "source": [
    "# Import some data from a folder\n",
    "# This load the all_data variable\n",
    "%run read.py"
   ]
  },
  {
   "cell_type": "code",
   "execution_count": null,
   "metadata": {},
   "outputs": [],
   "source": [
    "d = all_data['./data/ts_gold.dat']['data']\n",
    "dd = np.median(d, axis=[1])\n",
    "dd.shape"
   ]
  },
  {
   "cell_type": "code",
   "execution_count": null,
   "metadata": {},
   "outputs": [],
   "source": [
    "# Run an example calibration with some static data\n",
    "%run calibration.py"
   ]
  },
  {
   "cell_type": "code",
   "execution_count": null,
   "metadata": {},
   "outputs": [],
   "source": [
    "# Use imported data header to perform calibration \n",
    "q0 = all_data['./data/sc_quartz.dat']\n",
    "\n",
    "qcV = pysfg.Calibration(\n",
    "    q0['central_wl'], # Central wl of grating during experiment\n",
    "    q0['vis_wl'], # Central vis wl as set during experiment\n",
    "    q0['calib_central_wl'], # central wl during calibration\n",
    "    q0['calib_coeff'], # calibration coeficient in decreasing oder\n",
    ")\n",
    "qcV.wavenumber[800: 804]"
   ]
  },
  {
   "cell_type": "code",
   "execution_count": null,
   "metadata": {},
   "outputs": [],
   "source": [
    "# A convenience function if you have victor data\n",
    "cV = pysfg.calibration.from_victor_file('./data/sc_quartz.dat')\n",
    "cV.wavenumber"
   ]
  },
  {
   "cell_type": "code",
   "execution_count": null,
   "metadata": {},
   "outputs": [],
   "source": [
    "# A convenience function if you have vivian data\n",
    "cV = pysfg.calibration.from_vivian_file('./data/B867_Au_ssp.dat')\n",
    "cV.wavenumber"
   ]
  },
  {
   "cell_type": "code",
   "execution_count": null,
   "metadata": {},
   "outputs": [],
   "source": [
    "%run normalization.py"
   ]
  },
  {
   "cell_type": "code",
   "execution_count": null,
   "metadata": {},
   "outputs": [],
   "source": [
    "fig, ax = plt.subplots()\n",
    "plt.plot(norm.wavenumber, norm.basesubed)"
   ]
  },
  {
   "cell_type": "code",
   "execution_count": null,
   "metadata": {},
   "outputs": [],
   "source": [
    "%run spectrum.py"
   ]
  },
  {
   "cell_type": "code",
   "execution_count": null,
   "metadata": {},
   "outputs": [],
   "source": [
    "fig, ax = plt.subplots()\n",
    "plt.plot(spectrum.wavenumber, spectrum.normalized)"
   ]
  },
  {
   "cell_type": "code",
   "execution_count": null,
   "metadata": {},
   "outputs": [],
   "source": [
    "%run pump_probe.py"
   ]
  },
  {
   "cell_type": "code",
   "execution_count": null,
   "metadata": {},
   "outputs": [],
   "source": [
    "pumped.pp_delay"
   ]
  },
  {
   "cell_type": "code",
   "execution_count": null,
   "metadata": {},
   "outputs": [],
   "source": [
    "fig, ax = plt.subplots()\n",
    "plt.contourf(\n",
    "    pumped.pp_delay,\n",
    "    pumped.wavenumber,\n",
    "    pumped.basesubed.T,\n",
    ")\n",
    "plt.xlabel('Time/fs')\n",
    "plt.ylabel('SFG/Intensity')"
   ]
  },
  {
   "cell_type": "code",
   "execution_count": null,
   "metadata": {},
   "outputs": [],
   "source": [
    "fig, ax = plt.subplots()\n",
    "plt.plot(\n",
    "    pumped.wavenumber,\n",
    "    pumped.basesubed[10]\n",
    ")\n",
    "plt.plot(\n",
    "    probed.wavenumber,\n",
    "    probed.basesubed[10]\n",
    ")"
   ]
  },
  {
   "cell_type": "code",
   "execution_count": null,
   "metadata": {},
   "outputs": [],
   "source": [
    "pixel = slice(400, 1200)\n",
    "delays = slice(5, 18)\n",
    "\n",
    "fig, ax = plt.subplots()\n",
    "plt.contourf(\n",
    "    bleach.pp_delay[delays],\n",
    "    bleach.wavenumber[pixel],\n",
    "    bleach.basesubed.T[pixel, delays],\n",
    ")"
   ]
  },
  {
   "cell_type": "code",
   "execution_count": null,
   "metadata": {},
   "outputs": [],
   "source": [
    "pixel = slice(400, 1200)\n",
    "delays = slice(5, 18)\n",
    "\n",
    "fig, ax = plt.subplots()\n",
    "plt.contourf(\n",
    "    bleach.pp_delay[delays],\n",
    "    bleach.wavenumber[pixel],\n",
    "    bleach.normalized.T[pixel, delays],\n",
    ")"
   ]
  },
  {
   "cell_type": "code",
   "execution_count": null,
   "metadata": {},
   "outputs": [],
   "source": [
    "pixel = slice(400, 1200)\n",
    "\n",
    "fig, ax = plt.subplots()\n",
    "plt.plot(\n",
    "    bleach.wavenumber[pixel], bleach.normalized[20, pixel]\n",
    ")"
   ]
  },
  {
   "cell_type": "code",
   "execution_count": null,
   "metadata": {},
   "outputs": [],
   "source": [
    "# Test if exporting and importing of PumpProbe data works\n",
    "pumped.to_json(\"./data/pumped.json\")\n",
    "pumped = pysfg.spectrum.json_to_pumpprobe(\"./data/pumped.json\")\n",
    "pumped.df"
   ]
  },
  {
   "cell_type": "code",
   "execution_count": null,
   "metadata": {},
   "outputs": [],
   "source": [
    "# Test if exporting and importing of Bleach works\n",
    "bleach.to_json(\"./data/bleach.json\")\n",
    "bleach = pysfg.spectrum.json_to_bleach('./data/bleach.json')\n",
    "bleach.df"
   ]
  },
  {
   "cell_type": "code",
   "execution_count": null,
   "metadata": {},
   "outputs": [],
   "source": [
    "# Generate a trace object from a bleach object\n",
    "trace = bleach.get_trace(pixel=slice(600, 800))\n",
    "\n",
    "fig, ax = plt.subplots()\n",
    "plt.plot(trace.pp_delay, trace.bleach, '-o')"
   ]
  },
  {
   "cell_type": "code",
   "execution_count": null,
   "metadata": {},
   "outputs": [],
   "source": [
    "%run crosscorrelation.py"
   ]
  },
  {
   "cell_type": "code",
   "execution_count": null,
   "metadata": {},
   "outputs": [],
   "source": [
    "fig, ax = plt.subplots()\n",
    "plt.plot(cc.pp_delay, np.mean(cc.basesubed, axis=1))"
   ]
  },
  {
   "cell_type": "code",
   "execution_count": null,
   "metadata": {},
   "outputs": [],
   "source": [
    "%run fit.py"
   ]
  },
  {
   "cell_type": "code",
   "execution_count": null,
   "metadata": {},
   "outputs": [],
   "source": [
    "# Have a look at the fit parameters\n",
    "fit.minuit.migrad()"
   ]
  },
  {
   "cell_type": "code",
   "execution_count": null,
   "metadata": {},
   "outputs": [],
   "source": [
    "np.shape(fit.y), np.shape(fit.yerr)"
   ]
  },
  {
   "cell_type": "code",
   "execution_count": null,
   "metadata": {},
   "outputs": [],
   "source": [
    "fit.y.shape"
   ]
  },
  {
   "cell_type": "code",
   "execution_count": null,
   "metadata": {},
   "outputs": [],
   "source": [
    "x = np.linspace(-1, 5, 400)\n",
    "y = fit.fit(x)\n",
    "\n",
    "fig, ax = plt.subplots()\n",
    "plt.plot(x, y)\n",
    "plt.errorbar(fit.x, fit.y, fit.yerr, fmt='o')\n",
    "plt.xlim(-1, 5)"
   ]
  },
  {
   "cell_type": "code",
   "execution_count": 1,
   "metadata": {},
   "outputs": [
    {
     "name": "stdout",
     "output_type": "stream",
     "text": [
      "Using matplotlib backend: Qt5Agg\n",
      "Populating the interactive namespace from numpy and matplotlib\n"
     ]
    }
   ],
   "source": [
    "%pylab"
   ]
  },
  {
   "cell_type": "code",
   "execution_count": null,
   "metadata": {},
   "outputs": [],
   "source": []
  }
 ],
 "metadata": {
  "kernelspec": {
   "display_name": "Python [conda env:pysfg]",
   "language": "python",
   "name": "conda-env-pysfg-py"
  },
  "language_info": {
   "codemirror_mode": {
    "name": "ipython",
    "version": 3
   },
   "file_extension": ".py",
   "mimetype": "text/x-python",
   "name": "python",
   "nbconvert_exporter": "python",
   "pygments_lexer": "ipython3",
   "version": "3.8.5"
  }
 },
 "nbformat": 4,
 "nbformat_minor": 4
}
