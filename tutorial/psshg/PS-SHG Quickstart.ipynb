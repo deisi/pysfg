{
 "cells": [
  {
   "cell_type": "code",
   "execution_count": null,
   "metadata": {},
   "outputs": [],
   "source": [
    "%pylab\n",
    "import pandas as pd\n",
    "import pysfg\n",
    "from glob import glob"
   ]
  },
  {
   "cell_type": "markdown",
   "metadata": {},
   "source": [
    "call the psshg.py script with:\n",
    "\n",
    "`%run Path_to_psshg.py Path_to_config.yaml`\n",
    "\n",
    "The following is an example that works from this notebook here"
   ]
  },
  {
   "cell_type": "code",
   "execution_count": null,
   "metadata": {},
   "outputs": [],
   "source": [
    "%run ../../scripts/psshg.py config.yaml"
   ]
  },
  {
   "cell_type": "markdown",
   "metadata": {},
   "source": [
    "All paths in config.yaml can be relative to the config.yaml file. Thus if the config.yaml file is in the same folder as the data, just putting the name of the files is enough"
   ]
  },
  {
   "cell_type": "markdown",
   "metadata": {},
   "source": [
    "The config.yaml file must have the following structure:\n",
    "\n",
    "``` yaml\n",
    "data:\n",
    "  - pixel_slice: [160, 320]  # Pixel range where spectral data is observed\n",
    "    background_data: './00_bg_qz_sin_pout.spe'  # Path to background .spe file\n",
    "    interference_data: './00_if_qz_sin_pout.spe'  # Path to interference .spe file\n",
    "    local_oszillator_data: './00_lo_qz_sin_pout.spe'  # Path to .spe file with local oszillator spectrum\n",
    "    sample_shg_data: './00_sa_qz_sin_pout.spe'  # Path to sample shg spectrm .spe file\n",
    "    mask: [4, 70]  # The fft components to keep during fft filter step. Inspect `PSSHG.time_domain` data to validate the window. However as long as wedge/time delay is not changed, this should be kept constant.\n",
    "    out: '00_qz_sp.json'  # Name of the resulting .json file for the generated `PSSHG` spectrum\n",
    "\n",
    "```"
   ]
  },
  {
   "cell_type": "markdown",
   "metadata": {},
   "source": [
    "The resulting `.json` file can be imported with:"
   ]
  },
  {
   "cell_type": "code",
   "execution_count": 3,
   "metadata": {},
   "outputs": [],
   "source": [
    "qz = pysfg.json_to_PSSHG('00_qz_sp.json')"
   ]
  },
  {
   "cell_type": "markdown",
   "metadata": {},
   "source": [
    "And all the members of the PSSHG class are available to you"
   ]
  }
 ],
 "metadata": {
  "kernelspec": {
   "display_name": "Python [conda env:pysfg]",
   "language": "python",
   "name": "conda-env-pysfg-py"
  },
  "language_info": {
   "codemirror_mode": {
    "name": "ipython",
    "version": 3
   },
   "file_extension": ".py",
   "mimetype": "text/x-python",
   "name": "python",
   "nbconvert_exporter": "python",
   "pygments_lexer": "ipython3",
   "version": "3.8.5"
  }
 },
 "nbformat": 4,
 "nbformat_minor": 4
}
